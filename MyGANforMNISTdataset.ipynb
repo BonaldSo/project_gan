{
  "nbformat": 4,
  "nbformat_minor": 0,
  "metadata": {
    "colab": {
      "provenance": [],
      "include_colab_link": true
    },
    "kernelspec": {
      "name": "python3",
      "display_name": "Python 3"
    },
    "language_info": {
      "name": "python"
    }
  },
  "cells": [
    {
      "cell_type": "markdown",
      "metadata": {
        "id": "view-in-github",
        "colab_type": "text"
      },
      "source": [
        "<a href=\"https://colab.research.google.com/github/BonaldSo/project_gan/blob/main/MyGANforMNISTdataset.ipynb\" target=\"_parent\"><img src=\"https://colab.research.google.com/assets/colab-badge.svg\" alt=\"Open In Colab\"/></a>"
      ]
    },
    {
      "cell_type": "code",
      "source": [
        "import torch\n",
        "import torch.nn as nn\n",
        "import torch.optim as optim\n",
        "from torchvision import datasets, transforms\n",
        "from torch.utils.data import DataLoader\n",
        "import matplotlib.pyplot as plt\n",
        "import os\n",
        "\n",
        "\n",
        "# Setting the device\n",
        "device = torch.device('cuda' if torch.cuda.is_available() else 'cpu')\n",
        "\n",
        "transform = transforms.Compose([\n",
        "    transforms.ToTensor(),\n",
        "    transforms.Normalize((0.5,), (0.5,))\n",
        "])\n",
        "batch_size = 100\n",
        "train_dataset = datasets.MNIST(root='./data', train=True, transform=transform, download=True)\n",
        "\n",
        "#ToDo: Build the train data loader using the above batch_size varibale and shuffling the dataset.\n",
        "data_loader = DataLoader(train_dataset, batch_size, shuffle=True)\n",
        "\n"
      ],
      "metadata": {
        "id": "z-BU1m9IEXKY",
        "colab": {
          "base_uri": "https://localhost:8080/"
        },
        "outputId": "a23d7c84-3bc0-4f00-9c48-51dde3ac6657"
      },
      "execution_count": null,
      "outputs": [
        {
          "output_type": "stream",
          "name": "stdout",
          "text": [
            "Downloading http://yann.lecun.com/exdb/mnist/train-images-idx3-ubyte.gz\n",
            "Downloading http://yann.lecun.com/exdb/mnist/train-images-idx3-ubyte.gz to ./data/MNIST/raw/train-images-idx3-ubyte.gz\n"
          ]
        },
        {
          "output_type": "stream",
          "name": "stderr",
          "text": [
            "100%|██████████| 9912422/9912422 [00:00<00:00, 79076304.23it/s]\n"
          ]
        },
        {
          "output_type": "stream",
          "name": "stdout",
          "text": [
            "Extracting ./data/MNIST/raw/train-images-idx3-ubyte.gz to ./data/MNIST/raw\n",
            "\n",
            "Downloading http://yann.lecun.com/exdb/mnist/train-labels-idx1-ubyte.gz\n",
            "Downloading http://yann.lecun.com/exdb/mnist/train-labels-idx1-ubyte.gz to ./data/MNIST/raw/train-labels-idx1-ubyte.gz\n"
          ]
        },
        {
          "output_type": "stream",
          "name": "stderr",
          "text": [
            "100%|██████████| 28881/28881 [00:00<00:00, 58889496.27it/s]\n"
          ]
        },
        {
          "output_type": "stream",
          "name": "stdout",
          "text": [
            "Extracting ./data/MNIST/raw/train-labels-idx1-ubyte.gz to ./data/MNIST/raw\n",
            "\n",
            "Downloading http://yann.lecun.com/exdb/mnist/t10k-images-idx3-ubyte.gz\n",
            "Downloading http://yann.lecun.com/exdb/mnist/t10k-images-idx3-ubyte.gz to ./data/MNIST/raw/t10k-images-idx3-ubyte.gz\n"
          ]
        },
        {
          "output_type": "stream",
          "name": "stderr",
          "text": [
            "100%|██████████| 1648877/1648877 [00:00<00:00, 21889057.19it/s]\n"
          ]
        },
        {
          "output_type": "stream",
          "name": "stdout",
          "text": [
            "Extracting ./data/MNIST/raw/t10k-images-idx3-ubyte.gz to ./data/MNIST/raw\n",
            "\n",
            "Downloading http://yann.lecun.com/exdb/mnist/t10k-labels-idx1-ubyte.gz\n",
            "Downloading http://yann.lecun.com/exdb/mnist/t10k-labels-idx1-ubyte.gz to ./data/MNIST/raw/t10k-labels-idx1-ubyte.gz\n"
          ]
        },
        {
          "output_type": "stream",
          "name": "stderr",
          "text": [
            "100%|██████████| 4542/4542 [00:00<00:00, 13568752.68it/s]"
          ]
        },
        {
          "output_type": "stream",
          "name": "stdout",
          "text": [
            "Extracting ./data/MNIST/raw/t10k-labels-idx1-ubyte.gz to ./data/MNIST/raw\n",
            "\n"
          ]
        },
        {
          "output_type": "stream",
          "name": "stderr",
          "text": [
            "\n"
          ]
        }
      ]
    },
    {
      "cell_type": "markdown",
      "source": [],
      "metadata": {
        "id": "CjKSZLfMNU2J"
      }
    },
    {
      "cell_type": "code",
      "source": [
        "class Generator(nn.Module):\n",
        "    def __init__(self, n_dim):\n",
        "        super(Generator, self).__init__()\n",
        "        #The activation function for the two hidden layers is ReLU.\n",
        "        #The last layer's activation function is Tanh.\n",
        "        self.fc1 = nn.Linear(n_dim, 256)\n",
        "        self.fc2 = nn.Linear(256, 512)\n",
        "        self.fc3 = nn.Linear(512, 784)\n",
        "        self.relu = nn.ReLU()\n",
        "        self.tanh = nn.Tanh()\n",
        "\n",
        "\n",
        "    def forward(self, x):\n",
        "        #The function takes as input x and outputs the result of applying the generator on x.\n",
        "        x = self.fc1(x)\n",
        "        x = self.relu(x)\n",
        "        x = self.fc2(x)\n",
        "        x = self.relu(x)\n",
        "        x = self.fc3(x)\n",
        "        x = self.tanh(x)\n",
        "        return x\n"
      ],
      "metadata": {
        "id": "uACYmlwwG2tL"
      },
      "execution_count": null,
      "outputs": []
    },
    {
      "cell_type": "code",
      "source": [
        "class Discriminator(nn.Module):\n",
        "    def __init__(self):\n",
        "        super(Discriminator, self).__init__()\n",
        "        #The activation functions for the two hidden layers are ReLU.\n",
        "        #The last layer's activation function is Sigmoid.\n",
        "        self.fc1 = nn.Linear(784, 512)\n",
        "        self.fc2 = nn.Linear(512, 256)\n",
        "        self.fc3 = nn.Linear(256, 1)\n",
        "        self.relu = nn.ReLU()\n",
        "        self.sigmoid = nn.Sigmoid()\n",
        "\n",
        "    def forward(self, x):\n",
        "        x = x.view(x.size(0), -1) # Making sure that the batch of images has the shape [batch_size,28*28] instead of [batch_size,1,28,28]\n",
        "        #The function takes as input x and outputs the result of applying the generator on x.\n",
        "        x = self.fc1(x)\n",
        "        x = self.relu(x)\n",
        "        x = self.fc2(x)\n",
        "        x = self.relu(x)\n",
        "        x = self.fc3(x)\n",
        "        x = self.sigmoid(x)\n",
        "        return x\n"
      ],
      "metadata": {
        "id": "t5hdsi10JWJI"
      },
      "execution_count": null,
      "outputs": []
    },
    {
      "cell_type": "code",
      "source": [
        "n_dim = 100\n",
        "generator = Generator(n_dim).to(device)\n",
        "discriminator = Discriminator().to(device)\n",
        "lr = 0.0002\n",
        "\n",
        "\n",
        "criterion = nn.BCELoss()\n",
        "#ToDo: define the two different Adam optimizers for generator and discriminator with learning rates of lr.\n",
        "\n",
        "d_optimizer = optim.Adam(discriminator.parameters(), lr=lr)\n",
        "g_optimizer = optim.Adam(generator.parameters(), lr=lr)"
      ],
      "metadata": {
        "id": "FyuaaCJLLCdE"
      },
      "execution_count": null,
      "outputs": []
    },
    {
      "cell_type": "code",
      "source": [
        "num_epochs = 30\n",
        "total_step = len(data_loader)\n",
        "for epoch in range(num_epochs):\n",
        "    for i, (images, _) in enumerate(data_loader):\n",
        "        real_images = images.to(device)\n",
        "\n",
        "        # Training discriminator\n",
        "        discriminator.zero_grad()\n",
        "        real_outputs = discriminator(real_images)\n",
        "        real_labels = torch.ones(real_images.size(0), 1).to(device)\n",
        "        d_loss_real = criterion(real_outputs, real_labels)\n",
        "\n",
        "        #ToDo: Compute d_loss_fake\n",
        "        noise = torch.randn(batch_size, n_dim).to(device)\n",
        "        fimage = generator(noise)\n",
        "        foutput = discriminator(fimage.detach())\n",
        "        flabel = torch.zeros(batch_size, 1).to(device)\n",
        "        d_loss_fake = criterion(foutput, flabel)\n",
        "\n",
        "        d_loss = d_loss_real + d_loss_fake\n",
        "        d_loss.backward()\n",
        "        d_optimizer.step()\n",
        "\n",
        "        # Training generator\n",
        "        generator.zero_grad()\n",
        "\n",
        "        #ToDo: compute g_loss\n",
        "        myfoutput = discriminator(fimage)\n",
        "        g_loss = criterion(myfoutput, real_labels)\n",
        "\n",
        "\n",
        "        g_loss.backward()\n",
        "        g_optimizer.step()\n",
        "\n",
        "        if (i+1) % 300 == 0:\n",
        "            print(f'Epoch [{epoch+1}/{num_epochs}], Step [{i+1}/{total_step}], '\n",
        "                  f'Discriminator Loss: {d_loss.item():.4f}, '\n",
        "                  f'Generator Loss: {g_loss.item():.4f}')"
      ],
      "metadata": {
        "id": "RA8t-sCQZ8SG",
        "colab": {
          "base_uri": "https://localhost:8080/"
        },
        "outputId": "f08fd2f4-86ec-4e62-954b-6aef225ef52f"
      },
      "execution_count": null,
      "outputs": [
        {
          "output_type": "stream",
          "name": "stdout",
          "text": [
            "Epoch [1/30], Step [300/600], Discriminator Loss: 0.2267, Generator Loss: 4.0077\n",
            "Epoch [1/30], Step [600/600], Discriminator Loss: 0.8389, Generator Loss: 3.1468\n",
            "Epoch [2/30], Step [300/600], Discriminator Loss: 0.6616, Generator Loss: 2.4652\n",
            "Epoch [2/30], Step [600/600], Discriminator Loss: 1.5059, Generator Loss: 1.3780\n",
            "Epoch [3/30], Step [300/600], Discriminator Loss: 0.1482, Generator Loss: 2.9886\n",
            "Epoch [3/30], Step [600/600], Discriminator Loss: 0.5106, Generator Loss: 3.1385\n",
            "Epoch [4/30], Step [300/600], Discriminator Loss: 0.6059, Generator Loss: 3.0051\n",
            "Epoch [4/30], Step [600/600], Discriminator Loss: 0.3776, Generator Loss: 3.0690\n",
            "Epoch [5/30], Step [300/600], Discriminator Loss: 0.9257, Generator Loss: 1.5046\n",
            "Epoch [5/30], Step [600/600], Discriminator Loss: 0.2512, Generator Loss: 3.2882\n",
            "Epoch [6/30], Step [300/600], Discriminator Loss: 0.2331, Generator Loss: 3.2875\n",
            "Epoch [6/30], Step [600/600], Discriminator Loss: 0.2941, Generator Loss: 3.6637\n",
            "Epoch [7/30], Step [300/600], Discriminator Loss: 0.1434, Generator Loss: 5.8661\n",
            "Epoch [7/30], Step [600/600], Discriminator Loss: 0.1616, Generator Loss: 4.9586\n",
            "Epoch [8/30], Step [300/600], Discriminator Loss: 0.5235, Generator Loss: 2.8390\n",
            "Epoch [8/30], Step [600/600], Discriminator Loss: 0.6683, Generator Loss: 4.0952\n",
            "Epoch [9/30], Step [300/600], Discriminator Loss: 0.6894, Generator Loss: 2.4632\n",
            "Epoch [9/30], Step [600/600], Discriminator Loss: 0.4135, Generator Loss: 3.0907\n",
            "Epoch [10/30], Step [300/600], Discriminator Loss: 0.4262, Generator Loss: 3.1114\n",
            "Epoch [10/30], Step [600/600], Discriminator Loss: 0.9144, Generator Loss: 2.3193\n",
            "Epoch [11/30], Step [300/600], Discriminator Loss: 0.4049, Generator Loss: 3.5777\n",
            "Epoch [11/30], Step [600/600], Discriminator Loss: 0.3738, Generator Loss: 4.6146\n",
            "Epoch [12/30], Step [300/600], Discriminator Loss: 0.4220, Generator Loss: 2.9515\n",
            "Epoch [12/30], Step [600/600], Discriminator Loss: 0.6566, Generator Loss: 4.8370\n",
            "Epoch [13/30], Step [300/600], Discriminator Loss: 0.6082, Generator Loss: 2.8548\n",
            "Epoch [13/30], Step [600/600], Discriminator Loss: 0.3264, Generator Loss: 3.6654\n",
            "Epoch [14/30], Step [300/600], Discriminator Loss: 0.2207, Generator Loss: 4.6760\n",
            "Epoch [14/30], Step [600/600], Discriminator Loss: 0.2309, Generator Loss: 3.6856\n",
            "Epoch [15/30], Step [300/600], Discriminator Loss: 0.5557, Generator Loss: 3.6059\n",
            "Epoch [15/30], Step [600/600], Discriminator Loss: 0.2510, Generator Loss: 3.9360\n",
            "Epoch [16/30], Step [300/600], Discriminator Loss: 0.3641, Generator Loss: 3.6180\n",
            "Epoch [16/30], Step [600/600], Discriminator Loss: 0.5757, Generator Loss: 4.7579\n",
            "Epoch [17/30], Step [300/600], Discriminator Loss: 0.3854, Generator Loss: 3.1566\n",
            "Epoch [17/30], Step [600/600], Discriminator Loss: 0.3740, Generator Loss: 3.3276\n",
            "Epoch [18/30], Step [300/600], Discriminator Loss: 0.4024, Generator Loss: 4.6254\n",
            "Epoch [18/30], Step [600/600], Discriminator Loss: 0.3190, Generator Loss: 3.9107\n",
            "Epoch [19/30], Step [300/600], Discriminator Loss: 0.4861, Generator Loss: 3.0550\n",
            "Epoch [19/30], Step [600/600], Discriminator Loss: 0.4001, Generator Loss: 3.3756\n",
            "Epoch [20/30], Step [300/600], Discriminator Loss: 0.4014, Generator Loss: 4.0556\n",
            "Epoch [20/30], Step [600/600], Discriminator Loss: 0.3875, Generator Loss: 2.4643\n",
            "Epoch [21/30], Step [300/600], Discriminator Loss: 0.4612, Generator Loss: 2.5660\n",
            "Epoch [21/30], Step [600/600], Discriminator Loss: 0.5062, Generator Loss: 3.1170\n",
            "Epoch [22/30], Step [300/600], Discriminator Loss: 0.3764, Generator Loss: 2.6733\n",
            "Epoch [22/30], Step [600/600], Discriminator Loss: 0.5487, Generator Loss: 2.4234\n",
            "Epoch [23/30], Step [300/600], Discriminator Loss: 0.5400, Generator Loss: 3.6030\n",
            "Epoch [23/30], Step [600/600], Discriminator Loss: 0.4783, Generator Loss: 4.0151\n",
            "Epoch [24/30], Step [300/600], Discriminator Loss: 0.6264, Generator Loss: 2.6158\n",
            "Epoch [24/30], Step [600/600], Discriminator Loss: 0.6725, Generator Loss: 2.4976\n",
            "Epoch [25/30], Step [300/600], Discriminator Loss: 0.6377, Generator Loss: 2.6177\n",
            "Epoch [25/30], Step [600/600], Discriminator Loss: 0.5467, Generator Loss: 3.0467\n",
            "Epoch [26/30], Step [300/600], Discriminator Loss: 0.3857, Generator Loss: 3.0312\n",
            "Epoch [26/30], Step [600/600], Discriminator Loss: 0.7426, Generator Loss: 2.3485\n",
            "Epoch [27/30], Step [300/600], Discriminator Loss: 0.6361, Generator Loss: 3.1060\n",
            "Epoch [27/30], Step [600/600], Discriminator Loss: 0.4685, Generator Loss: 2.4465\n",
            "Epoch [28/30], Step [300/600], Discriminator Loss: 0.3711, Generator Loss: 4.2719\n",
            "Epoch [28/30], Step [600/600], Discriminator Loss: 0.4622, Generator Loss: 2.2405\n",
            "Epoch [29/30], Step [300/600], Discriminator Loss: 0.5672, Generator Loss: 3.0776\n",
            "Epoch [29/30], Step [600/600], Discriminator Loss: 0.5105, Generator Loss: 3.0752\n",
            "Epoch [30/30], Step [300/600], Discriminator Loss: 0.3697, Generator Loss: 3.0989\n",
            "Epoch [30/30], Step [600/600], Discriminator Loss: 0.6358, Generator Loss: 3.1377\n"
          ]
        }
      ]
    },
    {
      "cell_type": "code",
      "source": [
        "import matplotlib.pyplot as plt\n",
        "import numpy as np\n",
        "\n",
        "generator.eval()\n",
        "\n",
        "with torch.no_grad():\n",
        "    noise = torch.randn(4, n_dim).to(device)\n",
        "    gimages = generator(noise).cpu().numpy()\n",
        "\n",
        "f, ax = plt.subplots(2, 2, figsize=(8, 8))\n",
        "for i, a in enumerate(ax.flatten()):\n",
        "    a.imshow(gimages[i].reshape(28, 28), cmap='gray')\n",
        "    a.axis('off')\n",
        "plt.show()"
      ],
      "metadata": {
        "id": "lvUJnaqSJCPM",
        "colab": {
          "base_uri": "https://localhost:8080/",
          "height": 653
        },
        "outputId": "d13fc495-288d-4526-aafa-3c7ca2abe069"
      },
      "execution_count": null,
      "outputs": [
        {
          "output_type": "display_data",
          "data": {
            "text/plain": [
              "<Figure size 800x800 with 4 Axes>"
            ],
            "image/png": "[encoded data removed]"
          },
          "metadata": {}
        }
      ]
    },
    {
      "cell_type": "markdown",
      "source": [],
      "metadata": {
        "id": "oKSG7J5gLocD"
      }
    }
  ]
}